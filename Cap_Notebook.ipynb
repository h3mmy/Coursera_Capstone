{
    "cells": [
        {
            "cell_type": "markdown",
            "metadata": {},
            "source": "### Coursera Capstone Notebook A\nThis notebook is primarily for use in the Capstone Project for the IBM Data Professional Certification process."
        },
        {
            "cell_type": "code",
            "execution_count": null,
            "metadata": {
                "collapsed": true
            },
            "outputs": [],
            "source": "# Importing libraries/modules\n\nimport pandas as pd\nimport numpy as np\n\n# Required init statement for PR1\n\nprint(\"Hello Capstone Project Course!\")"
        }
    ],
    "metadata": {
        "kernelspec": {
            "display_name": "Python 3.6",
            "language": "python",
            "name": "python3"
        },
        "language_info": {
            "codemirror_mode": {
                "name": "ipython",
                "version": 3
            },
            "file_extension": ".py",
            "mimetype": "text/x-python",
            "name": "python",
            "nbconvert_exporter": "python",
            "pygments_lexer": "ipython3",
            "version": "3.6.9"
        }
    },
    "nbformat": 4,
    "nbformat_minor": 1
}