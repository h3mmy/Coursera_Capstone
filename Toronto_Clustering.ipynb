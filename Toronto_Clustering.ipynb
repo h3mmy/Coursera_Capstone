{
    "cells": [
        {
            "cell_type": "markdown",
            "metadata": {},
            "source": "# Peer Graded Assignment: Segmenting and Clustering Neighborhoods in Toronto"
        },
        {
            "cell_type": "code",
            "execution_count": 2,
            "metadata": {},
            "outputs": [],
            "source": "# Import Libraries\n#\nimport requests\nfrom bs4 import BeautifulSoup\nimport pandas as pd\nimport numpy as np\n##"
        },
        {
            "cell_type": "markdown",
            "metadata": {},
            "source": " ### PART 1 START\n We're going to scrape our web source and clean our table to start."
        },
        {
            "cell_type": "code",
            "execution_count": 3,
            "metadata": {},
            "outputs": [],
            "source": "source_1 = \"https://en.wikipedia.org/wiki/List_of_postal_codes_of_Canada:_M\"\n\nsoup = BeautifulSoup(requests.get(source_1).text, 'html5lib')\n\nfor i in soup.table.find_all('a'):  # Elimentating hyperlinks\n    i = i.unwrap()\n"
        },
        {
            "cell_type": "markdown",
            "metadata": {},
            "source": "Now we'll feed our table pushed as text into a pandas dataframe"
        },
        {
            "cell_type": "code",
            "execution_count": 4,
            "metadata": {},
            "outputs": [],
            "source": "# Reading table into pandas\npanda_soup = pd.read_html(soup.table.prettify(), flavor='bs4', na_values= \"Not assigned\")\n"
        },
        {
            "cell_type": "code",
            "execution_count": 5,
            "metadata": {},
            "outputs": [
                {
                    "data": {
                        "text/html": "<div>\n<style scoped>\n    .dataframe tbody tr th:only-of-type {\n        vertical-align: middle;\n    }\n\n    .dataframe tbody tr th {\n        vertical-align: top;\n    }\n\n    .dataframe thead th {\n        text-align: right;\n    }\n</style>\n<table border=\"1\" class=\"dataframe\">\n  <thead>\n    <tr style=\"text-align: right;\">\n      <th></th>\n      <th>Postcode</th>\n      <th>Borough</th>\n      <th>Neighbourhood</th>\n    </tr>\n  </thead>\n  <tbody>\n    <tr>\n      <th>0</th>\n      <td>M1A</td>\n      <td>NaN</td>\n      <td>NaN</td>\n    </tr>\n    <tr>\n      <th>1</th>\n      <td>M2A</td>\n      <td>NaN</td>\n      <td>NaN</td>\n    </tr>\n    <tr>\n      <th>2</th>\n      <td>M3A</td>\n      <td>North York</td>\n      <td>Parkwoods</td>\n    </tr>\n    <tr>\n      <th>3</th>\n      <td>M4A</td>\n      <td>North York</td>\n      <td>Victoria Village</td>\n    </tr>\n    <tr>\n      <th>4</th>\n      <td>M5A</td>\n      <td>Downtown Toronto</td>\n      <td>Harbourfront</td>\n    </tr>\n  </tbody>\n</table>\n</div>",
                        "text/plain": "  Postcode           Borough     Neighbourhood\n0      M1A               NaN               NaN\n1      M2A               NaN               NaN\n2      M3A        North York         Parkwoods\n3      M4A        North York  Victoria Village\n4      M5A  Downtown Toronto      Harbourfront"
                    },
                    "execution_count": 5,
                    "metadata": {},
                    "output_type": "execute_result"
                }
            ],
            "source": "# Let's check it out\ndf = panda_soup[0]\ndf.head()"
        },
        {
            "cell_type": "markdown",
            "metadata": {},
            "source": "Let's also examine the shape we're starting with.\ndf.shape would work just fine if you're running the cells sequentially. I'm using the master copy because the cells below will modify df"
        },
        {
            "cell_type": "code",
            "execution_count": 6,
            "metadata": {},
            "outputs": [
                {
                    "data": {
                        "text/plain": "(287, 3)"
                    },
                    "execution_count": 6,
                    "metadata": {},
                    "output_type": "execute_result"
                }
            ],
            "source": "panda_soup[0].shape"
        },
        {
            "cell_type": "markdown",
            "metadata": {},
            "source": "#### Handling our missing values"
        },
        {
            "cell_type": "code",
            "execution_count": 7,
            "metadata": {},
            "outputs": [
                {
                    "data": {
                        "text/html": "<div>\n<style scoped>\n    .dataframe tbody tr th:only-of-type {\n        vertical-align: middle;\n    }\n\n    .dataframe tbody tr th {\n        vertical-align: top;\n    }\n\n    .dataframe thead th {\n        text-align: right;\n    }\n</style>\n<table border=\"1\" class=\"dataframe\">\n  <thead>\n    <tr style=\"text-align: right;\">\n      <th></th>\n      <th>Postcode</th>\n      <th>Borough</th>\n      <th>Neighbourhood</th>\n    </tr>\n  </thead>\n  <tbody>\n    <tr>\n      <th>2</th>\n      <td>M3A</td>\n      <td>North York</td>\n      <td>Parkwoods</td>\n    </tr>\n    <tr>\n      <th>3</th>\n      <td>M4A</td>\n      <td>North York</td>\n      <td>Victoria Village</td>\n    </tr>\n    <tr>\n      <th>4</th>\n      <td>M5A</td>\n      <td>Downtown Toronto</td>\n      <td>Harbourfront</td>\n    </tr>\n    <tr>\n      <th>5</th>\n      <td>M6A</td>\n      <td>North York</td>\n      <td>Lawrence Heights</td>\n    </tr>\n    <tr>\n      <th>6</th>\n      <td>M6A</td>\n      <td>North York</td>\n      <td>Lawrence Manor</td>\n    </tr>\n    <tr>\n      <th>7</th>\n      <td>M7A</td>\n      <td>Downtown Toronto</td>\n      <td>Queen's Park</td>\n    </tr>\n    <tr>\n      <th>9</th>\n      <td>M9A</td>\n      <td>Etobicoke</td>\n      <td>Islington Avenue</td>\n    </tr>\n    <tr>\n      <th>10</th>\n      <td>M1B</td>\n      <td>Scarborough</td>\n      <td>Rouge</td>\n    </tr>\n    <tr>\n      <th>11</th>\n      <td>M1B</td>\n      <td>Scarborough</td>\n      <td>Malvern</td>\n    </tr>\n    <tr>\n      <th>13</th>\n      <td>M3B</td>\n      <td>North York</td>\n      <td>Don Mills North</td>\n    </tr>\n    <tr>\n      <th>14</th>\n      <td>M4B</td>\n      <td>East York</td>\n      <td>Woodbine Gardens</td>\n    </tr>\n    <tr>\n      <th>15</th>\n      <td>M4B</td>\n      <td>East York</td>\n      <td>Parkview Hill</td>\n    </tr>\n    <tr>\n      <th>16</th>\n      <td>M5B</td>\n      <td>Downtown Toronto</td>\n      <td>Ryerson</td>\n    </tr>\n    <tr>\n      <th>17</th>\n      <td>M5B</td>\n      <td>Downtown Toronto</td>\n      <td>Garden District</td>\n    </tr>\n    <tr>\n      <th>18</th>\n      <td>M6B</td>\n      <td>North York</td>\n      <td>Glencairn</td>\n    </tr>\n    <tr>\n      <th>21</th>\n      <td>M9B</td>\n      <td>Etobicoke</td>\n      <td>Cloverdale</td>\n    </tr>\n    <tr>\n      <th>22</th>\n      <td>M9B</td>\n      <td>Etobicoke</td>\n      <td>Islington</td>\n    </tr>\n    <tr>\n      <th>23</th>\n      <td>M9B</td>\n      <td>Etobicoke</td>\n      <td>Martin Grove</td>\n    </tr>\n    <tr>\n      <th>24</th>\n      <td>M9B</td>\n      <td>Etobicoke</td>\n      <td>Princess Gardens</td>\n    </tr>\n    <tr>\n      <th>25</th>\n      <td>M9B</td>\n      <td>Etobicoke</td>\n      <td>West Deane Park</td>\n    </tr>\n    <tr>\n      <th>26</th>\n      <td>M1C</td>\n      <td>Scarborough</td>\n      <td>Highland Creek</td>\n    </tr>\n    <tr>\n      <th>27</th>\n      <td>M1C</td>\n      <td>Scarborough</td>\n      <td>Rouge Hill</td>\n    </tr>\n    <tr>\n      <th>28</th>\n      <td>M1C</td>\n      <td>Scarborough</td>\n      <td>Port Union</td>\n    </tr>\n    <tr>\n      <th>30</th>\n      <td>M3C</td>\n      <td>North York</td>\n      <td>Flemingdon Park</td>\n    </tr>\n    <tr>\n      <th>31</th>\n      <td>M3C</td>\n      <td>North York</td>\n      <td>Don Mills South</td>\n    </tr>\n    <tr>\n      <th>32</th>\n      <td>M4C</td>\n      <td>East York</td>\n      <td>Woodbine Heights</td>\n    </tr>\n    <tr>\n      <th>33</th>\n      <td>M5C</td>\n      <td>Downtown Toronto</td>\n      <td>St. James Town</td>\n    </tr>\n    <tr>\n      <th>34</th>\n      <td>M6C</td>\n      <td>York</td>\n      <td>Humewood-Cedarvale</td>\n    </tr>\n    <tr>\n      <th>37</th>\n      <td>M9C</td>\n      <td>Etobicoke</td>\n      <td>Bloordale Gardens</td>\n    </tr>\n    <tr>\n      <th>38</th>\n      <td>M9C</td>\n      <td>Etobicoke</td>\n      <td>Eringate</td>\n    </tr>\n    <tr>\n      <th>...</th>\n      <td>...</td>\n      <td>...</td>\n      <td>...</td>\n    </tr>\n    <tr>\n      <th>234</th>\n      <td>M9V</td>\n      <td>Etobicoke</td>\n      <td>Thistletown</td>\n    </tr>\n    <tr>\n      <th>235</th>\n      <td>M1W</td>\n      <td>Scarborough</td>\n      <td>L'Amoreaux West</td>\n    </tr>\n    <tr>\n      <th>238</th>\n      <td>M4W</td>\n      <td>Downtown Toronto</td>\n      <td>Rosedale</td>\n    </tr>\n    <tr>\n      <th>239</th>\n      <td>M5W</td>\n      <td>Downtown Toronto</td>\n      <td>Stn A PO Boxes 25 The Esplanade</td>\n    </tr>\n    <tr>\n      <th>242</th>\n      <td>M8W</td>\n      <td>Etobicoke</td>\n      <td>Alderwood</td>\n    </tr>\n    <tr>\n      <th>243</th>\n      <td>M8W</td>\n      <td>Etobicoke</td>\n      <td>Long Branch</td>\n    </tr>\n    <tr>\n      <th>244</th>\n      <td>M9W</td>\n      <td>Etobicoke</td>\n      <td>Northwest</td>\n    </tr>\n    <tr>\n      <th>245</th>\n      <td>M1X</td>\n      <td>Scarborough</td>\n      <td>Upper Rouge</td>\n    </tr>\n    <tr>\n      <th>248</th>\n      <td>M4X</td>\n      <td>Downtown Toronto</td>\n      <td>Cabbagetown</td>\n    </tr>\n    <tr>\n      <th>249</th>\n      <td>M4X</td>\n      <td>Downtown Toronto</td>\n      <td>St. James Town</td>\n    </tr>\n    <tr>\n      <th>250</th>\n      <td>M5X</td>\n      <td>Downtown Toronto</td>\n      <td>First Canadian Place</td>\n    </tr>\n    <tr>\n      <th>251</th>\n      <td>M5X</td>\n      <td>Downtown Toronto</td>\n      <td>Underground city</td>\n    </tr>\n    <tr>\n      <th>254</th>\n      <td>M8X</td>\n      <td>Etobicoke</td>\n      <td>The Kingsway</td>\n    </tr>\n    <tr>\n      <th>255</th>\n      <td>M8X</td>\n      <td>Etobicoke</td>\n      <td>Montgomery Road</td>\n    </tr>\n    <tr>\n      <th>256</th>\n      <td>M8X</td>\n      <td>Etobicoke</td>\n      <td>Old Mill North</td>\n    </tr>\n    <tr>\n      <th>261</th>\n      <td>M4Y</td>\n      <td>Downtown Toronto</td>\n      <td>Church and Wellesley</td>\n    </tr>\n    <tr>\n      <th>264</th>\n      <td>M7Y</td>\n      <td>East Toronto</td>\n      <td>Business Reply Mail Processing Centre 969 Eastern</td>\n    </tr>\n    <tr>\n      <th>265</th>\n      <td>M8Y</td>\n      <td>Etobicoke</td>\n      <td>Humber Bay</td>\n    </tr>\n    <tr>\n      <th>266</th>\n      <td>M8Y</td>\n      <td>Etobicoke</td>\n      <td>King's Mill Park</td>\n    </tr>\n    <tr>\n      <th>267</th>\n      <td>M8Y</td>\n      <td>Etobicoke</td>\n      <td>Kingsway Park South East</td>\n    </tr>\n    <tr>\n      <th>268</th>\n      <td>M8Y</td>\n      <td>Etobicoke</td>\n      <td>Mimico NE</td>\n    </tr>\n    <tr>\n      <th>269</th>\n      <td>M8Y</td>\n      <td>Etobicoke</td>\n      <td>Old Mill South</td>\n    </tr>\n    <tr>\n      <th>270</th>\n      <td>M8Y</td>\n      <td>Etobicoke</td>\n      <td>The Queensway East</td>\n    </tr>\n    <tr>\n      <th>271</th>\n      <td>M8Y</td>\n      <td>Etobicoke</td>\n      <td>Royal York South East</td>\n    </tr>\n    <tr>\n      <th>272</th>\n      <td>M8Y</td>\n      <td>Etobicoke</td>\n      <td>Sunnylea</td>\n    </tr>\n    <tr>\n      <th>281</th>\n      <td>M8Z</td>\n      <td>Etobicoke</td>\n      <td>Kingsway Park South West</td>\n    </tr>\n    <tr>\n      <th>282</th>\n      <td>M8Z</td>\n      <td>Etobicoke</td>\n      <td>Mimico NW</td>\n    </tr>\n    <tr>\n      <th>283</th>\n      <td>M8Z</td>\n      <td>Etobicoke</td>\n      <td>The Queensway West</td>\n    </tr>\n    <tr>\n      <th>284</th>\n      <td>M8Z</td>\n      <td>Etobicoke</td>\n      <td>Royal York South West</td>\n    </tr>\n    <tr>\n      <th>285</th>\n      <td>M8Z</td>\n      <td>Etobicoke</td>\n      <td>South of Bloor</td>\n    </tr>\n  </tbody>\n</table>\n<p>210 rows \u00d7 3 columns</p>\n</div>",
                        "text/plain": "    Postcode           Borough  \\\n2        M3A        North York   \n3        M4A        North York   \n4        M5A  Downtown Toronto   \n5        M6A        North York   \n6        M6A        North York   \n7        M7A  Downtown Toronto   \n9        M9A         Etobicoke   \n10       M1B       Scarborough   \n11       M1B       Scarborough   \n13       M3B        North York   \n14       M4B         East York   \n15       M4B         East York   \n16       M5B  Downtown Toronto   \n17       M5B  Downtown Toronto   \n18       M6B        North York   \n21       M9B         Etobicoke   \n22       M9B         Etobicoke   \n23       M9B         Etobicoke   \n24       M9B         Etobicoke   \n25       M9B         Etobicoke   \n26       M1C       Scarborough   \n27       M1C       Scarborough   \n28       M1C       Scarborough   \n30       M3C        North York   \n31       M3C        North York   \n32       M4C         East York   \n33       M5C  Downtown Toronto   \n34       M6C              York   \n37       M9C         Etobicoke   \n38       M9C         Etobicoke   \n..       ...               ...   \n234      M9V         Etobicoke   \n235      M1W       Scarborough   \n238      M4W  Downtown Toronto   \n239      M5W  Downtown Toronto   \n242      M8W         Etobicoke   \n243      M8W         Etobicoke   \n244      M9W         Etobicoke   \n245      M1X       Scarborough   \n248      M4X  Downtown Toronto   \n249      M4X  Downtown Toronto   \n250      M5X  Downtown Toronto   \n251      M5X  Downtown Toronto   \n254      M8X         Etobicoke   \n255      M8X         Etobicoke   \n256      M8X         Etobicoke   \n261      M4Y  Downtown Toronto   \n264      M7Y      East Toronto   \n265      M8Y         Etobicoke   \n266      M8Y         Etobicoke   \n267      M8Y         Etobicoke   \n268      M8Y         Etobicoke   \n269      M8Y         Etobicoke   \n270      M8Y         Etobicoke   \n271      M8Y         Etobicoke   \n272      M8Y         Etobicoke   \n281      M8Z         Etobicoke   \n282      M8Z         Etobicoke   \n283      M8Z         Etobicoke   \n284      M8Z         Etobicoke   \n285      M8Z         Etobicoke   \n\n                                         Neighbourhood  \n2                                            Parkwoods  \n3                                     Victoria Village  \n4                                         Harbourfront  \n5                                     Lawrence Heights  \n6                                       Lawrence Manor  \n7                                         Queen's Park  \n9                                     Islington Avenue  \n10                                               Rouge  \n11                                             Malvern  \n13                                     Don Mills North  \n14                                    Woodbine Gardens  \n15                                       Parkview Hill  \n16                                             Ryerson  \n17                                     Garden District  \n18                                           Glencairn  \n21                                          Cloverdale  \n22                                           Islington  \n23                                        Martin Grove  \n24                                    Princess Gardens  \n25                                     West Deane Park  \n26                                      Highland Creek  \n27                                          Rouge Hill  \n28                                          Port Union  \n30                                     Flemingdon Park  \n31                                     Don Mills South  \n32                                    Woodbine Heights  \n33                                      St. James Town  \n34                                  Humewood-Cedarvale  \n37                                   Bloordale Gardens  \n38                                            Eringate  \n..                                                 ...  \n234                                        Thistletown  \n235                                    L'Amoreaux West  \n238                                           Rosedale  \n239                    Stn A PO Boxes 25 The Esplanade  \n242                                          Alderwood  \n243                                        Long Branch  \n244                                          Northwest  \n245                                        Upper Rouge  \n248                                        Cabbagetown  \n249                                     St. James Town  \n250                               First Canadian Place  \n251                                   Underground city  \n254                                       The Kingsway  \n255                                    Montgomery Road  \n256                                     Old Mill North  \n261                               Church and Wellesley  \n264  Business Reply Mail Processing Centre 969 Eastern  \n265                                         Humber Bay  \n266                                   King's Mill Park  \n267                           Kingsway Park South East  \n268                                          Mimico NE  \n269                                     Old Mill South  \n270                                 The Queensway East  \n271                              Royal York South East  \n272                                           Sunnylea  \n281                           Kingsway Park South West  \n282                                          Mimico NW  \n283                                 The Queensway West  \n284                              Royal York South West  \n285                                     South of Bloor  \n\n[210 rows x 3 columns]"
                    },
                    "execution_count": 7,
                    "metadata": {},
                    "output_type": "execute_result"
                }
            ],
            "source": "#Find all the Null Boroughs to get rid of them\n\nNull_Borough_Indices = df[df['Borough'].isna()==True].index\n\ndf.drop(Null_Borough_Indices, inplace=True)   # Dropping them\n\n# Next replace all non-existent Neighborhoods with the Borough name\n\ndf.fillna(df['Borough'])"
        },
        {
            "cell_type": "markdown",
            "metadata": {},
            "source": "Here we'll concatanate all the neighborhoods that exist within the same postcode"
        },
        {
            "cell_type": "code",
            "execution_count": 8,
            "metadata": {},
            "outputs": [],
            "source": "# Merging Neighborhoods of Duplicate Postcodes\n\ndf = df.groupby(['Postcode', 'Borough'])['Neighbourhood'].apply(', '.join).reset_index()"
        },
        {
            "cell_type": "code",
            "execution_count": 9,
            "metadata": {},
            "outputs": [
                {
                    "data": {
                        "text/html": "<div>\n<style scoped>\n    .dataframe tbody tr th:only-of-type {\n        vertical-align: middle;\n    }\n\n    .dataframe tbody tr th {\n        vertical-align: top;\n    }\n\n    .dataframe thead th {\n        text-align: right;\n    }\n</style>\n<table border=\"1\" class=\"dataframe\">\n  <thead>\n    <tr style=\"text-align: right;\">\n      <th></th>\n      <th>Postcode</th>\n      <th>Borough</th>\n      <th>Neighbourhood</th>\n    </tr>\n  </thead>\n  <tbody>\n    <tr>\n      <th>0</th>\n      <td>M1B</td>\n      <td>Scarborough</td>\n      <td>Rouge, Malvern</td>\n    </tr>\n    <tr>\n      <th>1</th>\n      <td>M1C</td>\n      <td>Scarborough</td>\n      <td>Highland Creek, Rouge Hill, Port Union</td>\n    </tr>\n    <tr>\n      <th>2</th>\n      <td>M1E</td>\n      <td>Scarborough</td>\n      <td>Guildwood, Morningside, West Hill</td>\n    </tr>\n    <tr>\n      <th>3</th>\n      <td>M1G</td>\n      <td>Scarborough</td>\n      <td>Woburn</td>\n    </tr>\n    <tr>\n      <th>4</th>\n      <td>M1H</td>\n      <td>Scarborough</td>\n      <td>Cedarbrae</td>\n    </tr>\n  </tbody>\n</table>\n</div>",
                        "text/plain": "  Postcode      Borough                           Neighbourhood\n0      M1B  Scarborough                          Rouge, Malvern\n1      M1C  Scarborough  Highland Creek, Rouge Hill, Port Union\n2      M1E  Scarborough       Guildwood, Morningside, West Hill\n3      M1G  Scarborough                                  Woburn\n4      M1H  Scarborough                               Cedarbrae"
                    },
                    "execution_count": 9,
                    "metadata": {},
                    "output_type": "execute_result"
                }
            ],
            "source": "# Result\ndf.head()"
        },
        {
            "cell_type": "markdown",
            "metadata": {},
            "source": "### Finally as per project requirement here is the ending shape"
        },
        {
            "cell_type": "code",
            "execution_count": 10,
            "metadata": {},
            "outputs": [
                {
                    "data": {
                        "text/plain": "(103, 3)"
                    },
                    "execution_count": 10,
                    "metadata": {},
                    "output_type": "execute_result"
                }
            ],
            "source": "df.shape"
        },
        {
            "cell_type": "markdown",
            "metadata": {},
            "source": "## PART 1 END\n\n--- --- --- \n\n## Part 2 START"
        },
        {
            "cell_type": "code",
            "execution_count": 11,
            "metadata": {},
            "outputs": [
                {
                    "name": "stdout",
                    "output_type": "stream",
                    "text": "--2020-03-12 15:56:35--  https://cocl.us/Geospatial_data\nResolving cocl.us (cocl.us)... 169.48.113.194, 158.85.108.83, 158.85.108.86\nConnecting to cocl.us (cocl.us)|169.48.113.194|:443... connected.\nHTTP request sent, awaiting response... 301 Moved Permanently\nLocation: https://ibm.box.com/shared/static/9afzr83pps4pwf2smjjcf1y5mvgb18rr.csv [following]\n--2020-03-12 15:56:37--  https://ibm.box.com/shared/static/9afzr83pps4pwf2smjjcf1y5mvgb18rr.csv\nResolving ibm.box.com (ibm.box.com)... 107.152.29.197\nConnecting to ibm.box.com (ibm.box.com)|107.152.29.197|:443... connected.\nHTTP request sent, awaiting response... 301 Moved Permanently\nLocation: /public/static/9afzr83pps4pwf2smjjcf1y5mvgb18rr.csv [following]\n--2020-03-12 15:56:37--  https://ibm.box.com/public/static/9afzr83pps4pwf2smjjcf1y5mvgb18rr.csv\nReusing existing connection to ibm.box.com:443.\nHTTP request sent, awaiting response... 301 Moved Permanently\nLocation: https://ibm.ent.box.com/public/static/9afzr83pps4pwf2smjjcf1y5mvgb18rr.csv [following]\n--2020-03-12 15:56:37--  https://ibm.ent.box.com/public/static/9afzr83pps4pwf2smjjcf1y5mvgb18rr.csv\nResolving ibm.ent.box.com (ibm.ent.box.com)... 107.152.27.211, 107.152.26.211, 107.152.25.211, ...\nConnecting to ibm.ent.box.com (ibm.ent.box.com)|107.152.27.211|:443... connected.\nHTTP request sent, awaiting response... 302 Found\nLocation: https://public.boxcloud.com/d/1/b1!AgJNj31THiEd-AJRW4yWOTak-ZUgE4l39UEEutV7X4fRobpJbLDpffHwMdHwYTqQNKCo89cju4eEm7vD5LwmoBgR4M-63ygjhHKJri3S0skM7dRwCRsUKaGBERYIYAJ8axykYRV_oXyVuFFya1qgQn0NKTPYtirOA1j3yN7YFZgdXDmt6hC6RjZX2KJPUEERZk2wK1wK7xLNvu8Ac1ftk_DxWPqYL3ARMzEaRl8BGk4dqN0KjZsWFe_AxTMCfb0TFGaCVo2FrTqkazKmTvV0NvbbukvvOwRG1NpPSTFFQyScYNLE4Ln6cypK0SBxfsrk4VDoyWU4f8Dl2GMZ7mRNXqtH70LhPT9vYxxrvEWKYHKlVX8XfqSs8hUYC4aXl40oi7EDl_CxHMPLaDiB3v6UFjfH9QBBSAoiq5STJ6NChVRiNeZBeGD9ZGmQA7oUJmpmmUZmjGycazYBH_vNdKZPP053YpOKXUqZVUEq7JAwKFrMkvK4oHagEDQlMyppbGqIvqj7va4lAC9xE9LrIib-tfIdYQtrK3gEicoU6NYy7GYM2amPt0vXKewAebQ_ViZC334OwJ_JfQivwUzMV3-w3UUkYWemYS4OZmCsfZTC6fjU3Y-22SuLQSFuvbZYI0TQs1fe8SmMuTVS0J2B0CcFeRoDMRipvoZq-dvCWpXIidDhjEsPTVq2gz-CeYVJPk_DFO-il9TdeIKoykV4gFceEPFKCD8bnSsctn3aAKncOU7cMl8rXTKNU3xk9SKMYanNp78B5aRH7q_nx64D0VKkBLqYNeJot9Y-89t7lZA7iS-A9ZcfiJlZpksWW_yq61ff1y8rmhdSP_b6nSlTCwM-Wy2xd1eWmvFA1iy5On3bm2UwBDrt4N--zXSuQwllMNpLMxrXvrQsA_1AXm19pZZ-OpP_hMJIbPpl4dCCv8iVJZAcWYBQIivxZ2nG1imm2j91PYDIhGgLzx5eNbkOzNSJjKe7_KUSKN2LqMAy94ZjrnQuqY-oHHpi6QOeQyr_orXd_g29mkK3KTVVcmM2cylf1WWUdUYO5yUn2duO0f60thbgPtQYPRBgIHVWVfwujzr9hT5YYtTXp653CztDAL_oR96XwRfSNogOITLMJzjy1f34mcsLyppHEcRxPodcFOGwHvBtkXYAoj3ygxj5pJPJLsRhD5mLFyJmCVp-nL8NxCg_sdk64OvWt4K9aFSyfXGVYvPNrl_OFj60qeNeN4DV-MUUPxmEhNj7pCZ8gf2qciM75LUWpsaX6Q_FGUHotCmTezzEqT7FpoKs_R-k0uJEKGmulHto_zOl9rWO2Zd0wOwVlbE-RxY1VoeDV0uqvQaHM_1UXyhLL2B-N9UsyG8V8FCNwU5h1Ei8faul1umbRcJCUl5dOaFqx0-V6uDS/download [following]\n--2020-03-12 15:56:38--  https://public.boxcloud.com/d/1/b1!AgJNj31THiEd-AJRW4yWOTak-ZUgE4l39UEEutV7X4fRobpJbLDpffHwMdHwYTqQNKCo89cju4eEm7vD5LwmoBgR4M-63ygjhHKJri3S0skM7dRwCRsUKaGBERYIYAJ8axykYRV_oXyVuFFya1qgQn0NKTPYtirOA1j3yN7YFZgdXDmt6hC6RjZX2KJPUEERZk2wK1wK7xLNvu8Ac1ftk_DxWPqYL3ARMzEaRl8BGk4dqN0KjZsWFe_AxTMCfb0TFGaCVo2FrTqkazKmTvV0NvbbukvvOwRG1NpPSTFFQyScYNLE4Ln6cypK0SBxfsrk4VDoyWU4f8Dl2GMZ7mRNXqtH70LhPT9vYxxrvEWKYHKlVX8XfqSs8hUYC4aXl40oi7EDl_CxHMPLaDiB3v6UFjfH9QBBSAoiq5STJ6NChVRiNeZBeGD9ZGmQA7oUJmpmmUZmjGycazYBH_vNdKZPP053YpOKXUqZVUEq7JAwKFrMkvK4oHagEDQlMyppbGqIvqj7va4lAC9xE9LrIib-tfIdYQtrK3gEicoU6NYy7GYM2amPt0vXKewAebQ_ViZC334OwJ_JfQivwUzMV3-w3UUkYWemYS4OZmCsfZTC6fjU3Y-22SuLQSFuvbZYI0TQs1fe8SmMuTVS0J2B0CcFeRoDMRipvoZq-dvCWpXIidDhjEsPTVq2gz-CeYVJPk_DFO-il9TdeIKoykV4gFceEPFKCD8bnSsctn3aAKncOU7cMl8rXTKNU3xk9SKMYanNp78B5aRH7q_nx64D0VKkBLqYNeJot9Y-89t7lZA7iS-A9ZcfiJlZpksWW_yq61ff1y8rmhdSP_b6nSlTCwM-Wy2xd1eWmvFA1iy5On3bm2UwBDrt4N--zXSuQwllMNpLMxrXvrQsA_1AXm19pZZ-OpP_hMJIbPpl4dCCv8iVJZAcWYBQIivxZ2nG1imm2j91PYDIhGgLzx5eNbkOzNSJjKe7_KUSKN2LqMAy94ZjrnQuqY-oHHpi6QOeQyr_orXd_g29mkK3KTVVcmM2cylf1WWUdUYO5yUn2duO0f60thbgPtQYPRBgIHVWVfwujzr9hT5YYtTXp653CztDAL_oR96XwRfSNogOITLMJzjy1f34mcsLyppHEcRxPodcFOGwHvBtkXYAoj3ygxj5pJPJLsRhD5mLFyJmCVp-nL8NxCg_sdk64OvWt4K9aFSyfXGVYvPNrl_OFj60qeNeN4DV-MUUPxmEhNj7pCZ8gf2qciM75LUWpsaX6Q_FGUHotCmTezzEqT7FpoKs_R-k0uJEKGmulHto_zOl9rWO2Zd0wOwVlbE-RxY1VoeDV0uqvQaHM_1UXyhLL2B-N9UsyG8V8FCNwU5h1Ei8faul1umbRcJCUl5dOaFqx0-V6uDS/download\nResolving public.boxcloud.com (public.boxcloud.com)... 107.152.26.200\nConnecting to public.boxcloud.com (public.boxcloud.com)|107.152.26.200|:443... connected.\nHTTP request sent, awaiting response... 200 OK\nLength: 2891 (2.8K) [text/csv]\nSaving to: \u2018Geospatial_data\u2019\n\n100%[======================================>] 2,891       --.-K/s   in 0s      \n\n2020-03-12 15:56:38 (254 MB/s) - \u2018Geospatial_data\u2019 saved [2891/2891]\n\n"
                }
            ],
            "source": "!wget https://cocl.us/Geospatial_data"
        },
        {
            "cell_type": "code",
            "execution_count": 12,
            "metadata": {},
            "outputs": [],
            "source": "gp_data = pd.read_csv('Geospatial_data')\n"
        },
        {
            "cell_type": "markdown",
            "metadata": {},
            "source": "Now that we've downloaded and read in the Data, we'll rename the Postcode column to be consistent"
        },
        {
            "cell_type": "code",
            "execution_count": 15,
            "metadata": {},
            "outputs": [],
            "source": "gp_data.rename(columns={'Postal Code': 'Postcode'}, inplace=True)"
        },
        {
            "cell_type": "markdown",
            "metadata": {},
            "source": "Now we'll do a full outer join using pandas' merge function on the Postcode key"
        },
        {
            "cell_type": "code",
            "execution_count": null,
            "metadata": {},
            "outputs": [],
            "source": "new_frame = pd.merge(df,gp_data, how='outer', on=['Postcode'])\n"
        },
        {
            "cell_type": "markdown",
            "metadata": {},
            "source": "This creates the DataFrame we need for the result of Part 2"
        },
        {
            "cell_type": "code",
            "execution_count": 20,
            "metadata": {},
            "outputs": [
                {
                    "data": {
                        "text/html": "<div>\n<style scoped>\n    .dataframe tbody tr th:only-of-type {\n        vertical-align: middle;\n    }\n\n    .dataframe tbody tr th {\n        vertical-align: top;\n    }\n\n    .dataframe thead th {\n        text-align: right;\n    }\n</style>\n<table border=\"1\" class=\"dataframe\">\n  <thead>\n    <tr style=\"text-align: right;\">\n      <th></th>\n      <th>Postcode</th>\n      <th>Borough</th>\n      <th>Neighbourhood</th>\n      <th>Latitude</th>\n      <th>Longitude</th>\n    </tr>\n  </thead>\n  <tbody>\n    <tr>\n      <th>0</th>\n      <td>M1B</td>\n      <td>Scarborough</td>\n      <td>Rouge, Malvern</td>\n      <td>43.806686</td>\n      <td>-79.194353</td>\n    </tr>\n    <tr>\n      <th>1</th>\n      <td>M1C</td>\n      <td>Scarborough</td>\n      <td>Highland Creek, Rouge Hill, Port Union</td>\n      <td>43.784535</td>\n      <td>-79.160497</td>\n    </tr>\n    <tr>\n      <th>2</th>\n      <td>M1E</td>\n      <td>Scarborough</td>\n      <td>Guildwood, Morningside, West Hill</td>\n      <td>43.763573</td>\n      <td>-79.188711</td>\n    </tr>\n    <tr>\n      <th>3</th>\n      <td>M1G</td>\n      <td>Scarborough</td>\n      <td>Woburn</td>\n      <td>43.770992</td>\n      <td>-79.216917</td>\n    </tr>\n    <tr>\n      <th>4</th>\n      <td>M1H</td>\n      <td>Scarborough</td>\n      <td>Cedarbrae</td>\n      <td>43.773136</td>\n      <td>-79.239476</td>\n    </tr>\n    <tr>\n      <th>5</th>\n      <td>M1J</td>\n      <td>Scarborough</td>\n      <td>Scarborough Village</td>\n      <td>43.744734</td>\n      <td>-79.239476</td>\n    </tr>\n    <tr>\n      <th>6</th>\n      <td>M1K</td>\n      <td>Scarborough</td>\n      <td>East Birchmount Park, Ionview, Kennedy Park</td>\n      <td>43.727929</td>\n      <td>-79.262029</td>\n    </tr>\n    <tr>\n      <th>7</th>\n      <td>M1L</td>\n      <td>Scarborough</td>\n      <td>Clairlea, Golden Mile, Oakridge</td>\n      <td>43.711112</td>\n      <td>-79.284577</td>\n    </tr>\n    <tr>\n      <th>8</th>\n      <td>M1M</td>\n      <td>Scarborough</td>\n      <td>Cliffcrest, Cliffside, Scarborough Village West</td>\n      <td>43.716316</td>\n      <td>-79.239476</td>\n    </tr>\n    <tr>\n      <th>9</th>\n      <td>M1N</td>\n      <td>Scarborough</td>\n      <td>Birch Cliff, Cliffside West</td>\n      <td>43.692657</td>\n      <td>-79.264848</td>\n    </tr>\n    <tr>\n      <th>10</th>\n      <td>M1P</td>\n      <td>Scarborough</td>\n      <td>Dorset Park, Scarborough Town Centre, Wexford ...</td>\n      <td>43.757410</td>\n      <td>-79.273304</td>\n    </tr>\n    <tr>\n      <th>11</th>\n      <td>M1R</td>\n      <td>Scarborough</td>\n      <td>Maryvale, Wexford</td>\n      <td>43.750072</td>\n      <td>-79.295849</td>\n    </tr>\n  </tbody>\n</table>\n</div>",
                        "text/plain": "   Postcode      Borough                                      Neighbourhood  \\\n0       M1B  Scarborough                                     Rouge, Malvern   \n1       M1C  Scarborough             Highland Creek, Rouge Hill, Port Union   \n2       M1E  Scarborough                  Guildwood, Morningside, West Hill   \n3       M1G  Scarborough                                             Woburn   \n4       M1H  Scarborough                                          Cedarbrae   \n5       M1J  Scarborough                                Scarborough Village   \n6       M1K  Scarborough        East Birchmount Park, Ionview, Kennedy Park   \n7       M1L  Scarborough                    Clairlea, Golden Mile, Oakridge   \n8       M1M  Scarborough    Cliffcrest, Cliffside, Scarborough Village West   \n9       M1N  Scarborough                        Birch Cliff, Cliffside West   \n10      M1P  Scarborough  Dorset Park, Scarborough Town Centre, Wexford ...   \n11      M1R  Scarborough                                  Maryvale, Wexford   \n\n     Latitude  Longitude  \n0   43.806686 -79.194353  \n1   43.784535 -79.160497  \n2   43.763573 -79.188711  \n3   43.770992 -79.216917  \n4   43.773136 -79.239476  \n5   43.744734 -79.239476  \n6   43.727929 -79.262029  \n7   43.711112 -79.284577  \n8   43.716316 -79.239476  \n9   43.692657 -79.264848  \n10  43.757410 -79.273304  \n11  43.750072 -79.295849  "
                    },
                    "execution_count": 20,
                    "metadata": {},
                    "output_type": "execute_result"
                }
            ],
            "source": "new_frame.head(12)"
        },
        {
            "cell_type": "markdown",
            "metadata": {},
            "source": "## Part 2 END"
        },
        {
            "cell_type": "code",
            "execution_count": null,
            "metadata": {},
            "outputs": [],
            "source": ""
        }
    ],
    "metadata": {
        "kernelspec": {
            "display_name": "Python 3.6",
            "language": "python",
            "name": "python3"
        },
        "language_info": {
            "codemirror_mode": {
                "name": "ipython",
                "version": 3
            },
            "file_extension": ".py",
            "mimetype": "text/x-python",
            "name": "python",
            "nbconvert_exporter": "python",
            "pygments_lexer": "ipython3",
            "version": "3.6.9"
        }
    },
    "nbformat": 4,
    "nbformat_minor": 1
}